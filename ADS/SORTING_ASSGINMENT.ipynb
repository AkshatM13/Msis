{
 "cells": [
  {
   "cell_type": "markdown",
   "metadata": {},
   "source": [
    "Bubble Sort"
   ]
  },
  {
   "cell_type": "code",
   "execution_count": 1,
   "metadata": {},
   "outputs": [
    {
     "name": "stdout",
     "output_type": "stream",
     "text": [
      "[3, 4, 5, 23, 43, 45]\n"
     ]
    }
   ],
   "source": [
    "def BubbleSort(mylist):\n",
    "    n=len(mylist)\n",
    "    count=1\n",
    "    while(count<=n):\n",
    "        for i in range(n-count):\n",
    "            if mylist[i]>mylist[i+1]:\n",
    "                mylist[i],mylist[i+1]=mylist[i+1],mylist[i]\n",
    "        count=count+1\n",
    "    return mylist\n",
    "'''\n",
    "n=int(input(\"enter total numbers\"))\n",
    "mylist=[]\n",
    "for i in range (n):\n",
    "    mylist.append(int(input(\"enter number\")))\n",
    "print(\"you entered : \", mylist)\n",
    "\n",
    "print(BubbleSort(mylist))'''\n",
    "\n",
    "mylist =[23,4,3,45,43,5]\n",
    "print(BubbleSort(mylist))\n",
    "\n",
    "\n",
    "\n",
    "\n",
    "\n"
   ]
  },
  {
   "cell_type": "markdown",
   "metadata": {},
   "source": [
    "Selection Sort\n"
   ]
  },
  {
   "cell_type": "code",
   "execution_count": 2,
   "metadata": {},
   "outputs": [
    {
     "name": "stdout",
     "output_type": "stream",
     "text": [
      "[3, 4, 5, 23, 43, 45]\n"
     ]
    }
   ],
   "source": [
    "def SelectionSort(mylist):\n",
    "    n=len(mylist)\n",
    "    for i in range(n-1):\n",
    "        for j in range(i+1,n):\n",
    "            if mylist[i] > mylist[j]:\n",
    "               mylist[i], mylist[j] = mylist[j], mylist[i]\n",
    "    return mylist\n",
    "\n",
    "mylist =[23,4,3,45,43,5]\n",
    "print(SelectionSort(mylist))\n",
    "\n",
    "       "
   ]
  },
  {
   "cell_type": "markdown",
   "metadata": {},
   "source": [
    "INSERTION SORT"
   ]
  },
  {
   "cell_type": "code",
   "execution_count": 3,
   "metadata": {},
   "outputs": [
    {
     "name": "stdout",
     "output_type": "stream",
     "text": [
      "[3, 4, 5, 23, 43, 45]\n"
     ]
    }
   ],
   "source": [
    "def InsertionSort(mylist):\n",
    "    n=len(mylist)\n",
    "    for i in range (1,n):\n",
    "        curr=mylist[i]\n",
    "        j=i-1\n",
    "        while(mylist[j]>curr and j>=0):\n",
    "            mylist[j+1]=mylist[j]\n",
    "            j-=1\n",
    "        mylist[j+1]=curr\n",
    "    return mylist\n",
    "\n",
    "mylist =[23,4,3,45,43,5]\n",
    "print(InsertionSort(mylist))\n",
    "\n"
   ]
  },
  {
   "cell_type": "markdown",
   "metadata": {},
   "source": [
    "lINEAR-sEARCH"
   ]
  },
  {
   "cell_type": "code",
   "execution_count": 4,
   "metadata": {},
   "outputs": [
    {
     "name": "stdout",
     "output_type": "stream",
     "text": [
      "True\n"
     ]
    }
   ],
   "source": [
    "def LinearSearch(mylist,key):\n",
    "    for i in mylist:\n",
    "        if i == key:\n",
    "            return True\n",
    "        \n",
    "    return False\n",
    "\n",
    "mylist=[2,3,4,5,6,7,8]\n",
    "key=6\n",
    "print(LinearSearch(mylist,key))\n",
    "\n"
   ]
  },
  {
   "cell_type": "markdown",
   "metadata": {},
   "source": [
    "BINARY SEARCH"
   ]
  },
  {
   "cell_type": "code",
   "execution_count": 5,
   "metadata": {},
   "outputs": [
    {
     "name": "stdout",
     "output_type": "stream",
     "text": [
      "True\n"
     ]
    }
   ],
   "source": [
    "def BinarySearch(mylist,key):\n",
    "    n=len(mylist)\n",
    "    s=0\n",
    "    e=n-1\n",
    "    while s<=e:\n",
    "        mid=s+e/2\n",
    "        if mid==key:\n",
    "            return mid\n",
    "        elif key<mid:\n",
    "            e=mid-1\n",
    "        else:\n",
    "            s=mid+1\n",
    "\n",
    "mylist=[2,3,4,5,6,7,8]\n",
    "key=2\n",
    "print(LinearSearch(mylist,key))"
   ]
  },
  {
   "cell_type": "markdown",
   "metadata": {},
   "source": [
    "QUICKSORT"
   ]
  },
  {
   "cell_type": "code",
   "execution_count": 6,
   "metadata": {},
   "outputs": [
    {
     "name": "stdout",
     "output_type": "stream",
     "text": [
      "Sorted list: [3, 4, 5, 23, 43, 45]\n"
     ]
    }
   ],
   "source": [
    "def partition(arr, low, high):\n",
    "    pivot = arr[high]  # Choose the last element as the pivot\n",
    "    i = low - 1  # Pointer for the smaller element\n",
    "\n",
    "    for j in range(low, high):\n",
    "        if arr[j] <= pivot:\n",
    "            i += 1\n",
    "            arr[i], arr[j] = arr[j], arr[i]  # Swap elements\n",
    "\n",
    "    arr[i + 1], arr[high] = arr[high], arr[i + 1]  # Place the pivot in the correct position\n",
    "    return i + 1\n",
    "\n",
    "def quickSort(arr, low, high):\n",
    "    if low < high:\n",
    "        pi = partition(arr, low, high)  # Partition the array\n",
    "\n",
    "        quickSort(arr, low, pi - 1)  # Recursively sort the left sublist\n",
    "        quickSort(arr, pi + 1, high)  # Recursively sort the right sublist\n",
    "\n",
    "# Example usage\n",
    "mylist = [23, 4, 3, 45, 43, 5]\n",
    "quickSort(mylist, 0, len(mylist) - 1)\n",
    "print(\"Sorted list:\", mylist)"
   ]
  },
  {
   "cell_type": "markdown",
   "metadata": {},
   "source": [
    "MERGE-SORT"
   ]
  },
  {
   "cell_type": "code",
   "execution_count": 7,
   "metadata": {},
   "outputs": [
    {
     "name": "stdout",
     "output_type": "stream",
     "text": [
      "Sorted list: [3, 4, 5, 23, 43, 45]\n"
     ]
    }
   ],
   "source": [
    "def mergeSort(arr):\n",
    "    if len(arr) <= 1:\n",
    "        return arr\n",
    "    \n",
    "    mid = len(arr) // 2\n",
    "    left = arr[:mid]\n",
    "    right = arr[mid:]\n",
    "    \n",
    "    left = mergeSort(left)\n",
    "    right = mergeSort(right)\n",
    "    \n",
    "    return merge(left, right)\n",
    "\n",
    "def merge(left, right):\n",
    "    result = []\n",
    "    i = j = 0\n",
    "    \n",
    "    while i < len(left) and j < len(right):\n",
    "        if left[i] < right[j]:\n",
    "            result.append(left[i])\n",
    "            i += 1\n",
    "        else:\n",
    "            result.append(right[j])\n",
    "            j += 1\n",
    "    \n",
    "    while i < len(left):\n",
    "        result.append(left[i])\n",
    "        i += 1\n",
    "    \n",
    "    while j < len(right):\n",
    "        result.append(right[j])\n",
    "        j += 1\n",
    "    \n",
    "    return result\n",
    "\n",
    "mylist = [23, 4, 3, 45, 43, 5]\n",
    "sorted_list = mergeSort(mylist)\n",
    "print(\"Sorted list:\", sorted_list)"
   ]
  },
  {
   "cell_type": "code",
   "execution_count": null,
   "metadata": {},
   "outputs": [],
   "source": []
  }
 ],
 "metadata": {
  "kernelspec": {
   "display_name": "Python 3",
   "language": "python",
   "name": "python3"
  },
  "language_info": {
   "codemirror_mode": {
    "name": "ipython",
    "version": 3
   },
   "file_extension": ".py",
   "mimetype": "text/x-python",
   "name": "python",
   "nbconvert_exporter": "python",
   "pygments_lexer": "ipython3",
   "version": "3.12.5"
  }
 },
 "nbformat": 4,
 "nbformat_minor": 2
}
