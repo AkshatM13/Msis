{
  "cells": [
    {
      "cell_type": "code",
      "execution_count": null,
      "metadata": {
        "id": "UUKyea-RwmZy",
        "vscode": {
          "languageId": "r"
        }
      },
      "outputs": [],
      "source": [
        "library(ggplot2)\n",
        "library(dplyr)"
      ]
    },
    {
      "cell_type": "markdown",
      "metadata": {
        "id": "QLWjwkAMSD6w"
      },
      "source": [
        "---\n",
        "\n",
        "**Scenario**: A salesman has scheduled two appointments to sell software, one in the morning and another one in the afternoon. There are two software\n",
        "editions available: the base edition costing Rs. 5000 and the premium edition costing Rs. 10000. His morning appointments typically lead\n",
        "to a sale with a 30% chance while the afternoon ones typically lead to a sale with a 60% chance independent of what happened in the\n",
        "morning. If the morning appointment ends up in sale, the salesman has a 70% chance of selling the premium edition and if the afternoon\n",
        "appointment ends up in a sale, he is equally likely to sell either of the editions. Let X be the random variable representing the total Rupee\n",
        "value of sales. What are the different values that X can take? Calculate the probability that X takes the value 5000?\n",
        "\n",
        "---"
      ]
    },
    {
      "cell_type": "code",
      "execution_count": null,
      "metadata": {
        "id": "04FFyHVr05Ug",
        "vscode": {
          "languageId": "r"
        }
      },
      "outputs": [],
      "source": [
        "# Sampling space for appointment success (0 corresponds to no sale, 1 corresponds to a sale)\n",
        "s_appointment = c(0, 1)\n",
        "\n",
        "# Appointment success and failure probabilities\n",
        "p_morning = 0.3 # Success probability of sales in morning\n",
        "p_afternoon =  0.6# Success probability of sales in afternoon\n",
        "p_appointment = matrix(nrow = 2, ncol = 2, c(1-p_morning, p_morning, 1-p_afternoon, p_afternoon), byrow = TRUE)\n",
        "\n",
        "# Sampling space for software type\n",
        "s_software = c(5000, 10000)\n",
        "\n",
        "# Software type probabilities\n",
        "p_software = matrix(nrow = 2, ncol = 2, c(0.3, 0.7, 0.5, 0.5), byrow = TRUE)\n",
        "\n",
        "# Function that simulates one trial of the random experiment which is\n",
        "# what the salesman earns on a random day\n",
        "salesResult = function(){\n",
        "  result = numeric(2)\n",
        "  # Simulate whether sales happen in morning and afternoon appointments\n",
        "  for (j in c(1:2)){\n",
        "    result[j] = sample(s_appointment, size = 1, replace = TRUE, prob = p_appointment[j, ])\n",
        "  }\n",
        "  earnings = ifelse(result[1] == 1, sample(s_software, size = 1, replace = TRUE, prob = p_software[1, ]), 0) + ifelse(result[2] == 1, sample(s_software, size = 1, replace = TRUE, prob = p_software[2, ]), 0)\n",
        "  return(earnings)\n",
        "}\n",
        "\n",
        "# Number of simulations\n",
        "nsimulations = 1e5\n",
        "simulatedData = replicate(nsimulations, salesResult())\n",
        "\n",
        "# Probability that the salesman earns Rs 5000\n",
        "mean(simulatedData == 5000)\n",
        "\n",
        "\n",
        "# Can we calculate all the probabilities in one shot?\n",
        "table(simulatedData) / nsimulations\n"
      ]
    },
    {
      "cell_type": "markdown",
      "metadata": {
        "id": "D_cJMnipLUz8"
      },
      "source": [
        "---\n",
        "\n",
        "**Discrete random variable**: Let ${\\color{red}X}$  represent the total earnings from one day which is random; that is, ${\\color{red}X}$ is a discrete random variable which can take the values $0, 5000, 10000, 15000, 20000.$ The associated probabilities can be calculated as:\n",
        "\n",
        "$\\begin{align*}P({\\color{red}X} = 0)  &= 0.7\\times0.4 = 0.28,\\\\ P({\\color{red}X} = 5000) &= 0.3\\times0.3\\times0.4+0.7\\times0.6\\times0.5=0.246,\\\\ P({\\color{red}X} = 10000) &= 0.3\\times0.3\\times0.6\\times0.5+0.3\\times0.7\\times0.4+0.7\\times0.6\\times0.5=0.321,\\\\ P({\\color{red}X} = 15000) &= 0.3\\times0.3\\times0.6\\times0.5+0.3\\times0.7\\times0.6\\times0.5=0.09,\\\\ P({\\color{red}X} = 20000) &= 0.3\\times0.7\\times0.4+0.3\\times0.6\\times0.5 = 0.063.\\end{align*}$\n",
        "\n",
        "---\n",
        "\n",
        "**Probability Mass Function (PMF)** of the random variable ${\\color{red}X}$ is denoted as ${\\color{red}{P_X}}(x),$ where $x$ represents the possible values that the random variable ${\\color{red}X}$ can take:\n",
        "\n",
        "$\\begin{align*}{\\color{red}{P_X}}(0) &= P({\\color{red}X} = 0)  = 0.28,\\\\ {\\color{red}{P_X}}(5000) &=P({\\color{red}X} = 5000) = 0.246,\\\\ {\\color{red}{P_X}}(10000) &=P({\\color{red}X} = 10000) = 0.321,\\\\ {\\color{red}{P_X}}(15000) &=P({\\color{red}X} = 15000) = 0.09,\\\\ {\\color{red}{P_X}}(20000) &=P({\\color{red}X} = 20000) = 0.063.\\end{align*}$\n",
        "\n",
        "---"
      ]
    },
    {
      "cell_type": "markdown",
      "metadata": {
        "id": "d4hp390yioCG"
      },
      "source": [
        "---\n",
        "\n",
        "Plot the frequency of occurences of all possible values of the random variable $\\color{red}X$\n",
        "\n",
        "---"
      ]
    },
    {
      "cell_type": "code",
      "execution_count": null,
      "metadata": {
        "id": "ttoW73bgYmFr",
        "vscode": {
          "languageId": "r"
        }
      },
      "outputs": [],
      "source": [
        "# Convert simulatedData into a dataframe\n",
        "dfSales = as.data.frame(simulatedData)\n",
        "\n",
        "# Add names to the columns\n",
        "colnames(dfSales) = c('Earning')\n",
        "\n",
        "p = ggplot(data = dfSales)+\n",
        "geom_bar(aes(x = factor(Earning)), width = 0.05, fill = 'steelblue')+\n",
        "  theme(plot.title = element_text(hjust = 0.5, size = 16, face = \"bold\"),\n",
        "  axis.text = element_text(size = 12),\n",
        "  axis.text.x = element_text(size = 14),\n",
        "  axis.text.y = element_text(size = 14),\n",
        "  axis.title = element_text(size = 14, face = \"bold\"))+\n",
        "  labs(x = 'Revenue (Rs.)',\n",
        "       y = 'Frequency',\n",
        "       title = 'Frequency of Salesman Revenues')\n",
        "p"
      ]
    },
    {
      "cell_type": "markdown",
      "metadata": {
        "id": "sNKdDmAbjCh5"
      },
      "source": [
        "---\n",
        "\n",
        "Plot the PMF of the random variable $\\color{red}X$\n",
        "\n",
        "---"
      ]
    },
    {
      "cell_type": "code",
      "execution_count": null,
      "metadata": {
        "id": "TgeYhmZrehkd",
        "vscode": {
          "languageId": "r"
        }
      },
      "outputs": [],
      "source": [
        "# Convert table of simulatedData into a dataframe\n",
        "dfSales = as.data.frame(table(simulatedData))\n",
        "\n",
        "# Add names to the columns\n",
        "colnames(dfSales) = c('Earning', 'Frequency')\n",
        "\n",
        "# Add a new column with proportion (probability) values\n",
        "dfSales['Probability'] = dfSales['Frequency'] / nsimulations\n",
        "\n",
        "#head(dfSales, 5)\n",
        "\n",
        "p = ggplot(data = dfSales)+\n",
        "geom_col(aes(x = Earning, y = Probability), width = 0.05, fill = 'steelblue')+\n",
        "  theme(plot.title = element_text(hjust = 0.5, size = 16, face = \"bold\"),\n",
        "  axis.text = element_text(size = 12),\n",
        "  axis.text.x = element_text(size = 14),\n",
        "  axis.text.y = element_text(size = 14),\n",
        "  axis.title = element_text(size = 14, face = \"bold\"))+\n",
        "  labs(x = 'Revenue',\n",
        "       y = 'Count',\n",
        "       title = 'PMF of Salesman Revenue')\n",
        "p\n"
      ]
    },
    {
      "cell_type": "markdown",
      "metadata": {
        "id": "ME_N99IUT3Nr"
      },
      "source": [
        "What is the salesman's expected earnings? What does it even mean to say \"expected earning?\" It is a single number denoted as $E[X]$ and referred to as the *expected value of* $X$ which can be calculated as follows:\n",
        "\n",
        "\n",
        "---\n",
        "\n",
        "\n",
        "\n",
        "*   *From a simulation perspective*, it is simply an average of all the simulated earnings:\n",
        "$\\begin{align*}E[X] &\\approx \\frac{1}{\\text{nsimulations}}\\times\\begin{cases}\\text{No. of times 0 appeared}\\times0\\\\\\qquad\\qquad\\quad+\\\\\\text{No. of times 5000 appeared}\\times 5000\\\\\\qquad\\qquad\\quad+\\\\\\text{No. of times 10000 appeared}\\times10000\\\\\\qquad\\qquad\\quad+\\\\\\text{No. of times 15000 appeared}\\times15000\\\\\\qquad\\qquad\\quad+\\\\\\text{No. of times 20000 appeared}\\times20000\\end{cases}\\\\&=0\\times\\underbrace{\\frac{\\text{No. of times 0 appeared}}{\\text{nsimulations}}}_{\\color{green}{\\text{approximation to }P(X=0)=P_X(0)}}\\\\&+5000 \\times\\underbrace{\\frac{\\text{No. of times 5000 appeared}}{\\text{nsimulations}}}_{\\color{green}{\\text{approximation to }P(X=5000) = P_X(5000)}}\\\\&+10000 \\times\\underbrace{\\frac{\\text{No. of times 10000 appeared}}{\\text{nsimulations}}}_{\\color{green}{\\text{approximation to }P(X=10000) = P_X(10000)}}\\\\&+15000 \\times\\underbrace{\\frac{\\text{No. of times 15000 appeared}}{\\text{nsimulations}}}_{\\color{green}{\\text{approximation to }P(X=15000)=P_X(15000)}}\\\\&+20000 \\times\\underbrace{\\frac{\\text{No. of times 20000 appeared}}{\\text{nsimulations}}}_{\\color{green}{\\text{approximation to }P(X=20000)=P_X(20000)}}.\\end{align*}$\n",
        "\n",
        "\n",
        "---\n",
        "\n",
        "\n",
        "*   *From a theoretical perspective*, the expected value of $X$ is defined as the weighted sum of the possible values $X$ can take with the corresponding probabilities as the weights:\n",
        "\n",
        "$\\begin{align*} E[X] &= \\sum_xxP_X(x),\\ \\text{where }x = 0, 5000, 10000, 15000, 20000\\\\\\Rightarrow E[X] &= 0\\times P_X(0)+5000\\times P_X(5000)+10000\\times P_X(10000)+15000\\times P_X(15000)+20000\\times P_X(20000)\\\\&=0\\times0.28+5000\\times0.246+10000\\times0.321+15000\\times0.09+20000\\times0.063 = \\text{Rs. }7050.\\end{align*}$\n",
        "\n",
        "\n",
        "\n",
        "---\n",
        "\n",
        "So, we see that the expected value of $X$ is approximately the long-term average of the simulated (or realized) values of $X.$\n"
      ]
    },
    {
      "cell_type": "code",
      "execution_count": null,
      "metadata": {
        "id": "kGT80YihTcoP",
        "vscode": {
          "languageId": "r"
        }
      },
      "outputs": [],
      "source": [
        "# Expected earnings using simulated values\n",
        "mean(simulatedData) # long term average of the realizations of X\n",
        "\n",
        "# Expected earnings using the theoretical definition\n",
        "x = c(0, 5000, 10000, 15000, 20000)\n",
        "p = c(0.28, 0.246, 0.321, 0.09, 0.063)\n",
        "sum(x * p)"
      ]
    },
    {
      "cell_type": "markdown",
      "metadata": {
        "id": "EiGFb0IcYBaY"
      },
      "source": [
        "How much could the salesman's earnings vary from the expected value of the earning calculated in the previous cell?\n",
        "\n",
        "\n",
        "---\n",
        "\n",
        "\n",
        "To answer this question, let's first look at the quantity $X-E[X] = X-7050.$ Note that:\n",
        "\n",
        "\n",
        "*   this is also a random variable with the possible values $0-7050, 5000-7050, 10000-7050, 15000-7050, 20000-7050$;\n",
        "*   it can be thought of as the random variable that captures the deviation of $X$ from its expected value;\n",
        "*  the associated probabilities are still the same as:\n",
        "\\begin{array}{c|c|c}\n",
        "\\hline\n",
        "\\color{red}X&\\color{red}{X}-\\color{cyan}{E[X]} = \\color{red}{X}-\\color{cyan}{7050}&\\color{magenta}{\\text{Probability}}\\\\\n",
        "\\hline\n",
        "0 & -7050& 0.28\\\\\n",
        "5000 & -2050 & 0.246\\\\\n",
        "10000 & 2950 & 0.321\\\\\n",
        "15000 & 7950 & 0.09\\\\\n",
        "20000 0& 12950 & 0.063\n",
        "\\end{array}\n",
        "---\n",
        "Now, consider the quantity $(X-E[X])^2 = (X-7050)^2.$ Note that:\n",
        "\n",
        "\n",
        "*   this is also a random variable with the possible values $(0-7050)^2, (5000-7050)^2, (10000-7050)^2, (15000-7050)^2, (20000-7050)^2$;\n",
        "*   it can be thought of as the random variable that captures the squared deviation of $X$ from its expected value;\n",
        "*  the associated probabilities are still the same as:\n",
        "\\begin{array}{c|c|c}\n",
        "\\hline\n",
        "\\color{red}X&(\\color{red}{X}-\\color{cyan}{E[X]})^2 = (\\color{red}{X}-\\color{cyan}{7050})^2&\\color{magenta}{\\text{Probability}}\\\\\n",
        "\\hline\n",
        "0 & (-7050)^2 & 0.28\\\\\n",
        "5000 & (-2050)^2 & 0.246\\\\\n",
        "10000 & (2950)^2 & 0.321\\\\\n",
        "15000 & (7950)^2& 0.09\\\\\n",
        "20000 & (12950)^2 & 0.063\n",
        "\\end{array}\n",
        "\n",
        "---\n",
        "\n",
        "$\\color{green}{Variance}$ of the random variable $X,$ denoted as $\\text{var}[X],$ is the expected squared deviation of $X$ from its expected value. In simple terms, variance of $X$ is the expected value of the random variable $(X-E[X])^2.$\n",
        "\n",
        "$\\begin{align*}\\text{Var}[X] &= E\\left[\\underbrace{(X-E[X])^2}_{\\text{squared deviation random variable}}\\right]\\\\&=\n",
        "\\sum_x (x-E[X])^2\\times P_X(x)\\\\& = (0-7050)^2\\times P_X(0)+(5000-7050)^2\\times P_X(5000)+(10000-7050)^2\\times P_X(10000)+(15000-7050)^2\\times P_X(15000)+(20000-7050)^2\\times P_X(20000)\\\\&=(0-7050)^2\\times 0.28+(5000-7050)^2\\times 0.246+(10000-7050)^2\\times 0.321+(15000-7050)^2\\times 0.09+(20000-7050)^2\\times 0.063\\\\&=309375\\ \\text{Rupees squared}.\\end{align*}$\n",
        "\n",
        "---\n",
        "\n",
        "$\\color{green}{Standard\\ deviation}$ of the random variable $X,$ denoted as $\\text{SD}[X],$ is defined as the square root of its variance:\n",
        "\n",
        "$\\begin{align*}\\text{SD}[X] &= \\sqrt{\\text{Var}[X]} = \\sqrt{E\\left[(X-E[X])^2\\right]}\\\\&=\\sqrt{(0-7050)^2\\times 0.28+(5000-7050)^2\\times 0.246+(10000-7050)^2\\times 0.321+(15000-7050)^2\\times 0.09+(20000-7050)^2\\times 0.063}\\\\&\\approx \\text{Rs. 5830.7}.\\end{align*}$\n",
        "\n",
        "---"
      ]
    },
    {
      "cell_type": "code",
      "execution_count": null,
      "metadata": {
        "id": "RMD7O5VBZlqp",
        "vscode": {
          "languageId": "r"
        }
      },
      "outputs": [],
      "source": [
        "# Variance of the earnings using simulated values\n",
        "# Long term average of this random variable (X-E[X])^2\n",
        "#simulatedData - mean(simulatedData) # simulated deviations\n",
        "#(simulatedData - mean(simulatedData))^2 # simulated squared deviations\n",
        "mean(simulatedData)\n",
        "mean((simulatedData - mean(simulatedData))^2) # variance calculated using simulation\n",
        "var(simulatedData) # in-built function for variance\n",
        "\n",
        "# Standard deviation of the earnings using simulated values\n",
        "sqrt(mean((simulatedData - mean(simulatedData))^2))\n",
        "sd(simulatedData) # in-built function for standard deviation\n",
        "\n",
        "print(' ')\n",
        "\n",
        "# Variance of the earnings using the thoretical definition\n",
        "x = c(0, 5000, 10000, 15000, 20000)\n",
        "p = c(0.28, 0.246, 0.321, 0.09, 0.063)\n",
        "sum((x - sum(x*p))^2 * p)\n",
        "\n",
        "# Standard deviation of the earnings using the theoretical definition\n",
        "sqrt(sum((x - sum(x*p))^2 * p))"
      ]
    },
    {
      "cell_type": "code",
      "execution_count": null,
      "metadata": {
        "id": "ElpK1mV9OjBB",
        "vscode": {
          "languageId": "r"
        }
      },
      "outputs": [],
      "source": [
        "x = c(0, 5000, 10000, 15000, 20000)\n",
        "p = c(0.28, 0.246, 0.321, 0.09, 0.063)\n",
        "\n",
        "# Deviations from the expected value\n",
        "x - sum(x*p)\n",
        "\n",
        "# Squared deviations from the expected value\n",
        "(x - sum(x*p))^2\n",
        "\n",
        "# Expected value of the squared deviations from the expected value\n",
        "sum((x - sum(x*p))^2 * p)\n",
        "\n",
        "# Square root of the expected value of the squared deviations from the\n",
        "# expected value\n",
        "sqrt(sum((x - sum(x*p))^2 * p))"
      ]
    }
  ],
  "metadata": {
    "colab": {
      "provenance": []
    },
    "kernelspec": {
      "display_name": "R",
      "language": "R",
      "name": "ir"
    },
    "language_info": {
      "codemirror_mode": "r",
      "file_extension": ".r",
      "mimetype": "text/x-r-source",
      "name": "R",
      "pygments_lexer": "r",
      "version": "3.3.1"
    }
  },
  "nbformat": 4,
  "nbformat_minor": 0
}
