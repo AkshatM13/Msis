{
 "cells": [
  {
   "cell_type": "code",
   "execution_count": 8,
   "metadata": {},
   "outputs": [],
   "source": [
    "import pandas as pd\n",
    "import numpy as np\n",
    "from sklearn.preprocessing import LabelEncoder\n",
    "from sklearn.model_selection import train_test_split\n",
    "from sklearn.preprocessing import StandardScaler\n",
    "from sklearn.linear_model import LinearRegression\n",
    "from sklearn.metrics import accuracy_score\n"
   ]
  },
  {
   "cell_type": "code",
   "execution_count": 4,
   "metadata": {},
   "outputs": [
    {
     "name": "stdout",
     "output_type": "stream",
     "text": [
      "       income  happiness\n",
      "0    3.862647   2.314489\n",
      "1    4.979381   3.433490\n",
      "2    4.923957   4.599373\n",
      "3    3.214372   2.791114\n",
      "4    7.196409   5.596398\n",
      "..        ...        ...\n",
      "493  5.249209   4.568705\n",
      "494  3.471799   2.535002\n",
      "495  6.087610   4.397451\n",
      "496  3.440847   2.070664\n",
      "497  4.530545   3.710193\n",
      "\n",
      "[498 rows x 2 columns]\n"
     ]
    }
   ],
   "source": [
    "import pandas as pd\n",
    "\n",
    "# Read the CSV file into a DataFrame\n",
    "data = pd.read_csv(\"income_data.csv\")\n",
    "\n",
    "# Drop the 'Unnamed: 0' column\n",
    "data = data.drop('Unnamed: 0', axis=1)\n",
    "\n",
    "# Display the DataFrame\n",
    "print(data)\n",
    "df=data"
   ]
  },
  {
   "cell_type": "code",
   "execution_count": 7,
   "metadata": {},
   "outputs": [
    {
     "data": {
      "text/plain": [
       "income       0\n",
       "happiness    0\n",
       "dtype: int64"
      ]
     },
     "execution_count": 7,
     "metadata": {},
     "output_type": "execute_result"
    }
   ],
   "source": [
    "df.isnull().sum()"
   ]
  },
  {
   "cell_type": "code",
   "execution_count": 9,
   "metadata": {},
   "outputs": [],
   "source": [
    "from sklearn.impute import SimpleImputer\n",
    "\n",
    "imputer = SimpleImputer(missing_values=np.nan ,strategy='mean')\n",
    "imputer.fit_transform(df['income'])\n",
    "\n"
   ]
  },
  {
   "cell_type": "code",
   "execution_count": null,
   "metadata": {},
   "outputs": [],
   "source": [
    "pd.get_dummies(df[['income','']],drop_first=TRUE).astype(int)"
   ]
  },
  {
   "cell_type": "code",
   "execution_count": null,
   "metadata": {},
   "outputs": [],
   "source": [
    "pd.get_dummies \n"
   ]
  },
  {
   "cell_type": "code",
   "execution_count": 5,
   "metadata": {},
   "outputs": [
    {
     "data": {
      "text/html": [
       "<div>\n",
       "<style scoped>\n",
       "    .dataframe tbody tr th:only-of-type {\n",
       "        vertical-align: middle;\n",
       "    }\n",
       "\n",
       "    .dataframe tbody tr th {\n",
       "        vertical-align: top;\n",
       "    }\n",
       "\n",
       "    .dataframe thead th {\n",
       "        text-align: right;\n",
       "    }\n",
       "</style>\n",
       "<table border=\"1\" class=\"dataframe\">\n",
       "  <thead>\n",
       "    <tr style=\"text-align: right;\">\n",
       "      <th></th>\n",
       "      <th>income</th>\n",
       "    </tr>\n",
       "  </thead>\n",
       "  <tbody>\n",
       "    <tr>\n",
       "      <th>0</th>\n",
       "      <td>3.862647</td>\n",
       "    </tr>\n",
       "    <tr>\n",
       "      <th>1</th>\n",
       "      <td>4.979381</td>\n",
       "    </tr>\n",
       "    <tr>\n",
       "      <th>2</th>\n",
       "      <td>4.923957</td>\n",
       "    </tr>\n",
       "    <tr>\n",
       "      <th>3</th>\n",
       "      <td>3.214372</td>\n",
       "    </tr>\n",
       "    <tr>\n",
       "      <th>4</th>\n",
       "      <td>7.196409</td>\n",
       "    </tr>\n",
       "    <tr>\n",
       "      <th>...</th>\n",
       "      <td>...</td>\n",
       "    </tr>\n",
       "    <tr>\n",
       "      <th>493</th>\n",
       "      <td>5.249209</td>\n",
       "    </tr>\n",
       "    <tr>\n",
       "      <th>494</th>\n",
       "      <td>3.471799</td>\n",
       "    </tr>\n",
       "    <tr>\n",
       "      <th>495</th>\n",
       "      <td>6.087610</td>\n",
       "    </tr>\n",
       "    <tr>\n",
       "      <th>496</th>\n",
       "      <td>3.440847</td>\n",
       "    </tr>\n",
       "    <tr>\n",
       "      <th>497</th>\n",
       "      <td>4.530545</td>\n",
       "    </tr>\n",
       "  </tbody>\n",
       "</table>\n",
       "<p>498 rows × 1 columns</p>\n",
       "</div>"
      ],
      "text/plain": [
       "       income\n",
       "0    3.862647\n",
       "1    4.979381\n",
       "2    4.923957\n",
       "3    3.214372\n",
       "4    7.196409\n",
       "..        ...\n",
       "493  5.249209\n",
       "494  3.471799\n",
       "495  6.087610\n",
       "496  3.440847\n",
       "497  4.530545\n",
       "\n",
       "[498 rows x 1 columns]"
      ]
     },
     "execution_count": 5,
     "metadata": {},
     "output_type": "execute_result"
    }
   ],
   "source": [
    "x=df.iloc[:,:1]\n",
    "x\n"
   ]
  },
  {
   "cell_type": "code",
   "execution_count": 28,
   "metadata": {},
   "outputs": [
    {
     "data": {
      "text/html": [
       "<div>\n",
       "<style scoped>\n",
       "    .dataframe tbody tr th:only-of-type {\n",
       "        vertical-align: middle;\n",
       "    }\n",
       "\n",
       "    .dataframe tbody tr th {\n",
       "        vertical-align: top;\n",
       "    }\n",
       "\n",
       "    .dataframe thead th {\n",
       "        text-align: right;\n",
       "    }\n",
       "</style>\n",
       "<table border=\"1\" class=\"dataframe\">\n",
       "  <thead>\n",
       "    <tr style=\"text-align: right;\">\n",
       "      <th></th>\n",
       "      <th>happiness</th>\n",
       "    </tr>\n",
       "  </thead>\n",
       "  <tbody>\n",
       "    <tr>\n",
       "      <th>0</th>\n",
       "      <td>2.314489</td>\n",
       "    </tr>\n",
       "    <tr>\n",
       "      <th>1</th>\n",
       "      <td>3.433490</td>\n",
       "    </tr>\n",
       "    <tr>\n",
       "      <th>2</th>\n",
       "      <td>4.599373</td>\n",
       "    </tr>\n",
       "    <tr>\n",
       "      <th>3</th>\n",
       "      <td>2.791114</td>\n",
       "    </tr>\n",
       "    <tr>\n",
       "      <th>4</th>\n",
       "      <td>5.596398</td>\n",
       "    </tr>\n",
       "    <tr>\n",
       "      <th>...</th>\n",
       "      <td>...</td>\n",
       "    </tr>\n",
       "    <tr>\n",
       "      <th>493</th>\n",
       "      <td>4.568705</td>\n",
       "    </tr>\n",
       "    <tr>\n",
       "      <th>494</th>\n",
       "      <td>2.535002</td>\n",
       "    </tr>\n",
       "    <tr>\n",
       "      <th>495</th>\n",
       "      <td>4.397451</td>\n",
       "    </tr>\n",
       "    <tr>\n",
       "      <th>496</th>\n",
       "      <td>2.070664</td>\n",
       "    </tr>\n",
       "    <tr>\n",
       "      <th>497</th>\n",
       "      <td>3.710193</td>\n",
       "    </tr>\n",
       "  </tbody>\n",
       "</table>\n",
       "<p>498 rows × 1 columns</p>\n",
       "</div>"
      ],
      "text/plain": [
       "     happiness\n",
       "0     2.314489\n",
       "1     3.433490\n",
       "2     4.599373\n",
       "3     2.791114\n",
       "4     5.596398\n",
       "..         ...\n",
       "493   4.568705\n",
       "494   2.535002\n",
       "495   4.397451\n",
       "496   2.070664\n",
       "497   3.710193\n",
       "\n",
       "[498 rows x 1 columns]"
      ]
     },
     "execution_count": 28,
     "metadata": {},
     "output_type": "execute_result"
    }
   ],
   "source": [
    "y=df.iloc[:,1:]\n",
    "y"
   ]
  },
  {
   "cell_type": "code",
   "execution_count": 31,
   "metadata": {},
   "outputs": [],
   "source": [
    "from sklearn.model_selection import train_test_split\n",
    "x_train,x_test,y_train,y_test=train_test_split(x,y , test_size=0.22,random_state=0)"
   ]
  },
  {
   "cell_type": "code",
   "execution_count": 36,
   "metadata": {},
   "outputs": [
    {
     "data": {
      "text/plain": [
       "array([[-0.37923674],\n",
       "       [-1.20396804],\n",
       "       [-1.63425199],\n",
       "       [-1.00726976],\n",
       "       [-1.37473264],\n",
       "       [-1.25376173],\n",
       "       [ 1.12010981],\n",
       "       [-0.23301385],\n",
       "       [ 1.33469751],\n",
       "       [ 1.58310698],\n",
       "       [ 0.23408967],\n",
       "       [ 1.05896018],\n",
       "       [ 0.94182409],\n",
       "       [-0.64059467],\n",
       "       [ 1.34450866],\n",
       "       [-1.17205357],\n",
       "       [ 1.16190374],\n",
       "       [-0.21107889],\n",
       "       [ 1.04026343],\n",
       "       [ 1.4830462 ],\n",
       "       [-1.60190773],\n",
       "       [-1.65900499],\n",
       "       [-0.12933027],\n",
       "       [-0.92752002],\n",
       "       [ 0.44245906],\n",
       "       [ 1.39249865],\n",
       "       [-0.666561  ],\n",
       "       [-1.73672171],\n",
       "       [ 0.41163363],\n",
       "       [-0.12199285],\n",
       "       [ 1.17197985],\n",
       "       [ 0.18609517],\n",
       "       [-1.47447794],\n",
       "       [-0.91458821],\n",
       "       [ 1.43956293],\n",
       "       [ 1.42290086],\n",
       "       [-0.7540651 ],\n",
       "       [-1.06638838],\n",
       "       [-0.53529198],\n",
       "       [ 1.56235323],\n",
       "       [-1.34237544],\n",
       "       [ 0.34394375],\n",
       "       [-1.28490285],\n",
       "       [-0.52343693],\n",
       "       [ 0.18757358],\n",
       "       [ 0.212624  ],\n",
       "       [ 1.1587869 ],\n",
       "       [ 0.03621185],\n",
       "       [-0.56302245],\n",
       "       [-1.41897016],\n",
       "       [-0.4528151 ],\n",
       "       [ 0.04992183],\n",
       "       [-0.96517879],\n",
       "       [-0.63458327],\n",
       "       [-0.05759482],\n",
       "       [ 1.50928867],\n",
       "       [-1.51716451],\n",
       "       [-0.27381464],\n",
       "       [-1.64050351],\n",
       "       [-0.08777384],\n",
       "       [ 1.57520145],\n",
       "       [-0.48976431],\n",
       "       [-0.90980351],\n",
       "       [ 0.30967787],\n",
       "       [ 0.34392108],\n",
       "       [-1.72556092],\n",
       "       [ 0.00265756],\n",
       "       [ 0.65686615],\n",
       "       [-0.30713967],\n",
       "       [ 1.12424838],\n",
       "       [-0.20386376],\n",
       "       [ 0.51880327],\n",
       "       [-1.82787907],\n",
       "       [ 0.98266292],\n",
       "       [-1.42622405],\n",
       "       [-0.12852922],\n",
       "       [-1.67957801],\n",
       "       [ 1.13472479],\n",
       "       [ 0.86274452],\n",
       "       [ 0.28304915],\n",
       "       [ 0.82121943],\n",
       "       [ 0.36087866],\n",
       "       [ 0.47659327],\n",
       "       [ 1.71773393],\n",
       "       [-0.24088058],\n",
       "       [-1.17719909],\n",
       "       [ 1.119184  ],\n",
       "       [-1.26592615],\n",
       "       [-0.22593421],\n",
       "       [-0.36006936],\n",
       "       [ 0.74249006],\n",
       "       [ 1.69369382],\n",
       "       [ 0.08700938],\n",
       "       [-0.76666732],\n",
       "       [ 0.33964877],\n",
       "       [ 0.19322991],\n",
       "       [ 0.84870758],\n",
       "       [ 0.77427066],\n",
       "       [ 1.41028669],\n",
       "       [-0.92309543],\n",
       "       [ 0.53193664],\n",
       "       [-0.06738032],\n",
       "       [ 0.14246208],\n",
       "       [-0.81984171],\n",
       "       [ 0.02790979],\n",
       "       [-0.32778153],\n",
       "       [ 0.44414796],\n",
       "       [ 1.53497496],\n",
       "       [ 1.6472905 ],\n",
       "       [ 0.79449713]])"
      ]
     },
     "execution_count": 36,
     "metadata": {},
     "output_type": "execute_result"
    }
   ],
   "source": [
    "from sklearn.preprocessing import StandardScaler\n",
    "scaler=StandardScaler()\n",
    "x_train_scaler=scaler.fit_transform(x_train)\n",
    "x_test_scaler=scaler.fit_transform(x_test)\n"
   ]
  },
  {
   "cell_type": "code",
   "execution_count": 34,
   "metadata": {},
   "outputs": [],
   "source": [
    "from sklearn.linear_model import LinearRegression\n",
    "regressor=LinearRegression(fit_intercept=True)\n",
    "regressor.fit(x_train_scaler,y_train)\n",
    "y_pred=regressor.predict(x_test_scaler)"
   ]
  },
  {
   "cell_type": "code",
   "execution_count": 38,
   "metadata": {},
   "outputs": [
    {
     "data": {
      "text/plain": [
       "np.float64(0.6464714357691238)"
      ]
     },
     "execution_count": 38,
     "metadata": {},
     "output_type": "execute_result"
    }
   ],
   "source": [
    "from sklearn.metrics import mean_squared_error\n",
    "mean_squared_error(y_test,y_pred)"
   ]
  },
  {
   "cell_type": "code",
   "execution_count": 40,
   "metadata": {},
   "outputs": [
    {
     "ename": "TypeError",
     "evalue": "LinearRegression.fit() missing 1 required positional argument: 'y'",
     "output_type": "error",
     "traceback": [
      "\u001b[1;31m---------------------------------------------------------------------------\u001b[0m",
      "\u001b[1;31mTypeError\u001b[0m                                 Traceback (most recent call last)",
      "Cell \u001b[1;32mIn[40], line 4\u001b[0m\n\u001b[0;32m      2\u001b[0m plt\u001b[38;5;241m.\u001b[39mscatter(x_train_scaler,y_train)\n\u001b[0;32m      3\u001b[0m plt\u001b[38;5;241m.\u001b[39mscatter(x_test_scaler,y_test)\n\u001b[1;32m----> 4\u001b[0m plt\u001b[38;5;241m.\u001b[39mplot(x_train_scaler,\u001b[43mregressor\u001b[49m\u001b[38;5;241;43m.\u001b[39;49m\u001b[43mfit\u001b[49m\u001b[43m(\u001b[49m\u001b[43mx_train_scaler\u001b[49m\u001b[43m)\u001b[49m)\n",
      "File \u001b[1;32mc:\\Users\\Suyash\\AppData\\Local\\Programs\\Python\\Python312\\Lib\\site-packages\\sklearn\\base.py:1473\u001b[0m, in \u001b[0;36m_fit_context.<locals>.decorator.<locals>.wrapper\u001b[1;34m(estimator, *args, **kwargs)\u001b[0m\n\u001b[0;32m   1466\u001b[0m     estimator\u001b[38;5;241m.\u001b[39m_validate_params()\n\u001b[0;32m   1468\u001b[0m \u001b[38;5;28;01mwith\u001b[39;00m config_context(\n\u001b[0;32m   1469\u001b[0m     skip_parameter_validation\u001b[38;5;241m=\u001b[39m(\n\u001b[0;32m   1470\u001b[0m         prefer_skip_nested_validation \u001b[38;5;129;01mor\u001b[39;00m global_skip_validation\n\u001b[0;32m   1471\u001b[0m     )\n\u001b[0;32m   1472\u001b[0m ):\n\u001b[1;32m-> 1473\u001b[0m     \u001b[38;5;28;01mreturn\u001b[39;00m \u001b[43mfit_method\u001b[49m\u001b[43m(\u001b[49m\u001b[43mestimator\u001b[49m\u001b[43m,\u001b[49m\u001b[43m \u001b[49m\u001b[38;5;241;43m*\u001b[39;49m\u001b[43margs\u001b[49m\u001b[43m,\u001b[49m\u001b[43m \u001b[49m\u001b[38;5;241;43m*\u001b[39;49m\u001b[38;5;241;43m*\u001b[39;49m\u001b[43mkwargs\u001b[49m\u001b[43m)\u001b[49m\n",
      "\u001b[1;31mTypeError\u001b[0m: LinearRegression.fit() missing 1 required positional argument: 'y'"
     ]
    },
    {
     "data": {
      "image/png": "[encoded data removed]",
      "text/plain": [
       "<Figure size 640x480 with 1 Axes>"
      ]
     },
     "metadata": {},
     "output_type": "display_data"
    }
   ],
   "source": [
    "import matplotlib.pyplot as plt\n",
    "plt.scatter(x_train_scaler,y_train)\n",
    "plt.scatter(x_test_scaler,y_test)\n",
    "plt.plot(x_train_scaler,regressor.fit(x_train_scaler))\n"
   ]
  }
 ],
 "metadata": {
  "kernelspec": {
   "display_name": "Python 3",
   "language": "python",
   "name": "python3"
  },
  "language_info": {
   "codemirror_mode": {
    "name": "ipython",
    "version": 3
   },
   "file_extension": ".py",
   "mimetype": "text/x-python",
   "name": "python",
   "nbconvert_exporter": "python",
   "pygments_lexer": "ipython3",
   "version": "3.12.5"
  }
 },
 "nbformat": 4,
 "nbformat_minor": 2
}
