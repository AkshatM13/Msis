{
 "cells": [
  {
   "cell_type": "markdown",
   "metadata": {},
   "source": [
    "1. Use * to repeat the list [10, 1, 3.3] FIVE times \n"
   ]
  },
  {
   "cell_type": "code",
   "execution_count": 2,
   "metadata": {},
   "outputs": [
    {
     "data": {
      "text/plain": [
       "[10, 1, 3.3, 10, 1, 3.3, 10, 1, 3.3, 10, 1, 3.3, 10, 1, 3.3]"
      ]
     },
     "execution_count": 2,
     "metadata": {},
     "output_type": "execute_result"
    }
   ],
   "source": [
    "list=[10,1,3.3]\n",
    "five_times=list*5\n",
    "five_times"
   ]
  },
  {
   "cell_type": "code",
   "execution_count": 10,
   "metadata": {},
   "outputs": [
    {
     "data": {
      "text/plain": [
       "True"
      ]
     },
     "execution_count": 10,
     "metadata": {},
     "output_type": "execute_result"
    }
   ],
   "source": [
    "my_list = [1, 2, 3, 4, 5]\n",
    "is_three_in_list = 3 in my_list\n",
    "is_three_in_list\n",
    "\n"
   ]
  },
  {
   "cell_type": "markdown",
   "metadata": {},
   "source": [
    "3. Now look at strings x = 'This is a string'\n",
    "   \n",
    "\t(a) print first character\n",
    "\t(b) print first two characters\n",
    "\t(c) Print the last element of the string.\n",
    "\t(d) Print 4th element from the end and stop before the 2nd element from the end.\n",
    "\t(e) Slice starting from the 4th element from the end and stopping before the 4nd element from the end.\n",
    "\t(f) Slice from the beginning of the string and stopping before the 3rd element.\n",
    "\t(g) Slice starting from the 4th element of the string and going all the way to the end."
   ]
  },
  {
   "cell_type": "code",
   "execution_count": 26,
   "metadata": {},
   "outputs": [
    {
     "name": "stdout",
     "output_type": "stream",
     "text": [
      "(a) first character= T\n",
      "(b) first two characters =  Th\n",
      "(c) the last element of the string = g\n",
      "(d) Print 4th element from the end and stop before the 2nd element from the end =  rin\n",
      "(e) Slice starting from the 4th element from the end and stopping before the 4nd element from the end =  r\n",
      "(f) Slice from the beginning of the string and stopping before the 3rd element=  Th\n",
      "(g) Slice starting from the 4th element of the string and going all the way to the end. =  s is a string\n"
     ]
    }
   ],
   "source": [
    "x = 'This is a string'\n",
    "print(\"(a) first character=\", x[0])\n",
    "print(\"(b) first two characters = \", x[:2])\n",
    "print(\"(c) the last element of the string =\", x[-1])\n",
    "print(\"(d) Print 4th element from the end and stop before the 2nd element from the end = \", x[-4:-1])\n",
    "print(\"(e) Slice starting from the 4th element from the end and stopping before the 4nd element from the end = \" , x[-4:-3])\n",
    "print(\"(f) Slice from the beginning of the string and stopping before the 3rd element= \", x[:2])\n",
    "print(\"(g) Slice starting from the 4th element of the string and going all the way to the end. = \" , x[3:])"
   ]
  },
  {
   "cell_type": "markdown",
   "metadata": {},
   "source": [
    "4. firstname = 'Arockiaraj'\n",
    "   lastname = 'S'\n",
    "\n",
    "\tprint concatenate firstname and lastname \n",
    "\t\n",
    "\tprint whether 'rock' is present in firstname."
   ]
  },
  {
   "cell_type": "code",
   "execution_count": 31,
   "metadata": {},
   "outputs": [
    {
     "name": "stdout",
     "output_type": "stream",
     "text": [
      "Arockiaraj S\n"
     ]
    },
    {
     "data": {
      "text/plain": [
       "True"
      ]
     },
     "execution_count": 31,
     "metadata": {},
     "output_type": "execute_result"
    }
   ],
   "source": [
    "firstname = 'Arockiaraj'\n",
    "lastname = 'S'\n",
    "print(firstname + \" \" + lastname)\n",
    "check = 'rock' in firstname\n",
    "check"
   ]
  },
  {
   "cell_type": "markdown",
   "metadata": {},
   "source": [
    "5. Split returns a list of all the words in a string, or a list split on a specific character.\n",
    "\n",
    "\tname = 'Tom Mitchell Machine Learning Scientist'.split(' ')\n",
    "\t\n",
    "\n",
    "\t(a) selects the first element of the list\n",
    "\t(b) selects the last element of the list\n",
    "\t(c) print the firstname\n",
    "\t(d) print middlename\n",
    "\t(e) print lastname\n",
    "\t(f) print firstname + ' ' + middlename+ ' ' + lastname"
   ]
  },
  {
   "cell_type": "code",
   "execution_count": 40,
   "metadata": {},
   "outputs": [
    {
     "name": "stdout",
     "output_type": "stream",
     "text": [
      "Tom\n",
      "Scientist\n",
      "Tom\n",
      "Mitchell Machine Learning\n",
      "Scientist\n",
      "Tom Mitchell Machine Learning Scientist\n"
     ]
    }
   ],
   "source": [
    "name = 'Tom Mitchell Machine Learning Scientist'.split(' ')\n",
    "name = 'Tom Mitchell Machine Learning Scientist'.split(' ')\n",
    "first_ele = name[0]\n",
    "print(first_ele)\n",
    "\n",
    "last_ele = name[-1]\n",
    "print(last_ele)\n",
    "\n",
    "firstname = name[0]\n",
    "print(firstname)\n",
    "\n",
    "middlename = name[1:-1]\n",
    "print(' '.join(middlename))\n",
    "\n",
    "lastname = name[-1]\n",
    "print(lastname)\n",
    "\n",
    "full_name = firstname + ' ' + ' '.join(middlename) + ' ' + lastname\n",
    "print(full_name)"
   ]
  },
  {
   "cell_type": "markdown",
   "metadata": {},
   "source": [
    "6. Concatenate the following.\n",
    "\tChris & 2 "
   ]
  },
  {
   "cell_type": "code",
   "execution_count": 45,
   "metadata": {},
   "outputs": [
    {
     "data": {
      "text/plain": [
       "'chris2'"
      ]
     },
     "execution_count": 45,
     "metadata": {},
     "output_type": "execute_result"
    }
   ],
   "source": [
    "x = 'chris'\n",
    "y = 2\n",
    "x + str(y)\n"
   ]
  },
  {
   "cell_type": "markdown",
   "metadata": {},
   "source": [
    "7. Consider the dictionaries associate keys with values.\n",
    "\tx = {'Arockiaraj': 'araj.s@manipal.edu', 'Bill Gates': 'billg@microsoft.com'}\n",
    "   \n",
    "\t(a) Retrieve a value by using the indexing operator\n",
    "\t(b) Iterate over all of the keys\n",
    "\t(c) Iterate over all of the values\n",
    "\t(d) Iterate over all of the items in the list"
   ]
  },
  {
   "cell_type": "code",
   "execution_count": 56,
   "metadata": {},
   "outputs": [
    {
     "name": "stdout",
     "output_type": "stream",
     "text": [
      "(a)= araj.s@manipal.edu\n",
      "(b=) Arockiaraj\n",
      "(b=) Bill Gates\n",
      "(c=) araj.s@manipal.edu\n",
      "(c=) billg@microsoft.com\n",
      "(d=) ('Arockiaraj', 'araj.s@manipal.edu')\n",
      "(d=) ('Bill Gates', 'billg@microsoft.com')\n"
     ]
    }
   ],
   "source": [
    "x = {'Arockiaraj': 'araj.s@manipal.edu', 'Bill Gates': 'billg@microsoft.com'}#arock-keys and email is value\n",
    "print(\"(a)=\" , x['Arockiaraj'])\n",
    "\n",
    "for key in x.keys():\n",
    "    print(\"(b=)\",key)\n",
    "\n",
    "for value in x.values():\n",
    "    print(\"(c=)\",value)\n",
    "    \n",
    "for item in x.items():\n",
    "    print(\"(d=)\", item)\n"
   ]
  },
  {
   "cell_type": "markdown",
   "metadata": {},
   "source": [
    "8. Unpack a sequence into different variables: fname, lname, email\n",
    "\tx = ('Arockiaraj', 'Simiyon', 'araj.s@manipal.edu')"
   ]
  },
  {
   "cell_type": "code",
   "execution_count": 61,
   "metadata": {},
   "outputs": [
    {
     "name": "stdout",
     "output_type": "stream",
     "text": [
      "First Name: Arockiaraj\n",
      "Last Name: Simiyon\n",
      "Email: araj.s@manipal.edu\n"
     ]
    }
   ],
   "source": [
    "x = ('Arockiaraj', 'Simiyon', 'araj.s@manipal.edu')\n",
    "\n",
    "fname, lname, email = x\n",
    "\n",
    "print(f\"First Name: {fname}\")\n",
    "print(f\"Last Name: {lname}\")\n",
    "print(f\"Email: {email}\")\n"
   ]
  },
  {
   "cell_type": "markdown",
   "metadata": {},
   "source": [
    "9. Make sure the number of values you are unpacking matches the number of variables being assigned.\n",
    "\tx = ('Arockiaraj', 'Simiyon', 'araj.s@manipal.edu', 'Manipal')\n",
    "\tfname, lname, email, mname = x\n"
   ]
  },
  {
   "cell_type": "code",
   "execution_count": 63,
   "metadata": {},
   "outputs": [
    {
     "name": "stdout",
     "output_type": "stream",
     "text": [
      "First Name: Arockiaraj\n",
      "Last Name: Simiyon\n",
      "Email: araj.s@manipal.edu\n",
      "Middle Name: Manipal\n",
      "f: Arockiaraj\n"
     ]
    }
   ],
   "source": [
    "x = ('Arockiaraj', 'Simiyon', 'araj.s@manipal.edu', 'Manipal')\n",
    "fname, lname, email, mname = x\n",
    "\n",
    "print(f\"First Name: {fname}\")\n",
    "print(f\"Last Name: {lname}\")\n",
    "print(f\"Email: {email}\")\n",
    "print(f\"Middle Name: {mname}\")\n",
    "\n"
   ]
  },
  {
   "cell_type": "markdown",
   "metadata": {},
   "source": [
    "10. Python has a built in method for convenient string formatting. \n",
    "\tExplain the output of the following code.  \n",
    "\n",
    "\tsales_record = {'price': 3.24, 'num_items': 4, 'person': 'Arockiaraj', 'email':'araj.s@manipal.edu'}\n",
    "\n",
    "\tsales_statement = '{} bought {} item(s) at a price of INR {} each for a total of INR {}'\n",
    "\n",
    "\tprint(sales_statement.format(sales_record['person'],\n",
    "                             sales_record['num_items'],\n",
    "                             sales_record['price'],\n",
    "                             sales_record['num_items']*sales_record['price']))"
   ]
  },
  {
   "cell_type": "code",
   "execution_count": 69,
   "metadata": {},
   "outputs": [
    {
     "name": "stdout",
     "output_type": "stream",
     "text": [
      "Arockiaraj bought 4 item(s) at a price of INR 3.24 each for a total of INR 12.96\n"
     ]
    }
   ],
   "source": [
    "sales_record = {'price': 3.24, 'num_items': 4, 'person': 'Arockiaraj', 'email':'araj.s@manipal.edu'}\n",
    "\n",
    "sales_statement = '{} bought {} item(s) at a price of INR {} each for a total of INR {}'\n",
    "\n",
    "print(sales_statement.format(person=sales_record['person'],\n",
    "                             num_items=sales_record['num_items'],\n",
    "                             price=sales_record['price'],\n",
    "                             total=sales_record['num_items']*sales_record['price']))\n"
   ]
  },
  {
   "cell_type": "code",
   "execution_count": 73,
   "metadata": {},
   "outputs": [
    {
     "name": "stdout",
     "output_type": "stream",
     "text": [
      "today date is 2024-10-07\n"
     ]
    },
    {
     "data": {
      "text/plain": [
       "True"
      ]
     },
     "execution_count": 73,
     "metadata": {},
     "output_type": "execute_result"
    }
   ],
   "source": [
    "#11. Date and time use\n",
    "\n",
    "import datetime as dt\n",
    "import time as tm\n",
    "\n",
    "# time returns the current time in seconds since the Epoch. (January 1st, 1970)\n",
    "tm.time()\n",
    "\n",
    "from datetime import date\n",
    "today = date.today()\n",
    "print('today date is', today)\n",
    "\n",
    "# Convert the timestamp to datetime.\n",
    "dtnow = dt.datetime.fromtimestamp(tm.time())\n",
    "dtnow\n",
    "\n",
    "# Handy datetime attributes:\n",
    "dtnow.year, dtnow.month, dtnow.day, dtnow.hour, dtnow.minute, dtnow.second # get year, month, day, etc. from a datetime\n",
    "\n",
    "# timedelta is a duration expressing the difference between two dates.\n",
    "delta = dt.timedelta(days = 100) # create a timedelta of 100 days\n",
    "\n",
    "# date.today returns the current local date.\n",
    "today = dt.date.today()\n",
    "today - delta # the date 100 days ago\n",
    "today > today-delta # compare dates"
   ]
  },
  {
   "cell_type": "markdown",
   "metadata": {},
   "source": [
    "12. Objects and map()\n",
    "\n",
    "#An example of a class in python:\n",
    "\n",
    "class Person:\n",
    "    institute = 'Manipal School of Information Sciences' #a class variable\n",
    "\n",
    "    #self keyword to access the attributes and methods of the class\n",
    "    \n",
    "    def set_name(self, new_name): #a method\n",
    "        self.name = new_name\n",
    "    def set_location(self, new_location):  \n",
    "        self.location = new_location\n",
    "\n",
    "person = Person()\n",
    "person.set_name('Arockiaraj')\n",
    "person.set_location('Manipal, Udupi, Karnataka')\n",
    "\n",
    "#what will be the output of the following statement:\n",
    "print('{} lives in {} and works in the institute {}'.format(person.name, person.location, person.institute))\n"
   ]
  },
  {
   "cell_type": "code",
   "execution_count": 78,
   "metadata": {},
   "outputs": [
    {
     "name": "stdout",
     "output_type": "stream",
     "text": [
      "Arockiaraj lives in Manipal, Udupi, Karnataka and works in the institute Manipal School of Information Sciences\n"
     ]
    }
   ],
   "source": [
    "#12. Objects and map()\n",
    "\n",
    "#An example of a class in python:\n",
    "\n",
    "class Person:\n",
    "    institute = 'Manipal School of Information Sciences' #a class variable\n",
    "\n",
    "    #self keyword to access the attributes and methods of the class\n",
    "    \n",
    "    def set_name(self, new_name): #a method\n",
    "        self.name = new_name\n",
    "    def set_location(self, new_location):  \n",
    "        self.location = new_location\n",
    "\n",
    "person = Person()\n",
    "person.set_name('Arockiaraj')\n",
    "person.set_location('Manipal, Udupi, Karnataka')\n",
    "\n",
    "#what will be the output of the following statement:\n",
    "print('{} lives in {} and works in the institute {}'.format(person.name, person.location, person.institute))\n"
   ]
  },
  {
   "cell_type": "code",
   "execution_count": 82,
   "metadata": {},
   "outputs": [
    {
     "name": "stdout",
     "output_type": "stream",
     "text": [
      "{'y', 'x', 2, 1} {'y', 'x', 2, 1}\n",
      "{1, 'x', 2, 4, 'y'} {1, 'x', 2, 'a', 'y'}\n"
     ]
    }
   ],
   "source": [
    "#13. Example set\n",
    "\n",
    "x={1, 'x', 2, 'y', (1, 2, 3), 'hello'}\n",
    "y = (1, 2, 3)\n",
    "\n",
    "\t#sets are unordered \n",
    "y={1, 'x', 2, 'y'}\n",
    "z={1, 'x', 2, 'y'}\n",
    "print(y, z)\n",
    "\n",
    "\t#Write the output of the after executing the following commands: \n",
    "y.add(4)\n",
    "z.add('a')\n",
    "print(y, z)"
   ]
  },
  {
   "cell_type": "code",
   "execution_count": 85,
   "metadata": {},
   "outputs": [
    {
     "name": "stdout",
     "output_type": "stream",
     "text": [
      "<map object at 0x0000026B05B26410>\n",
      "10.0\n",
      "10.1\n",
      "11.0\n",
      "5.01\n",
      "19.0\n",
      "12.0\n",
      "12.34\n",
      "6.0\n"
     ]
    }
   ],
   "source": [
    "#Here's an example of mapping the min function between three lists. \n",
    "#Milk, water, sugar, tea packet\n",
    "\n",
    "store1 = [10.00, 11.00, 12.34, 5.34]\n",
    "store2 = [19.00, 10.10, 12.34, 5.01]\n",
    "store3 = [15.00, 12.00, 11.00, 6.00]\n",
    "\n",
    "cheapest = map(min, store1, store2, store3)\n",
    "costly = map(max, store1, store2, store3)\n",
    "\n",
    "print(cheapest)\n",
    "\n",
    "# (a) Iterate through the map object to see the values.\n",
    "for price in cheapest:\n",
    "    print(price)\n",
    "# (b) Iterate through the map object to see the values.\n",
    "for price in costly:\n",
    "    print(price)"
   ]
  },
  {
   "cell_type": "code",
   "execution_count": 86,
   "metadata": {},
   "outputs": [
    {
     "name": "stdout",
     "output_type": "stream",
     "text": [
      "<map object at 0x0000026B05B26230>\n",
      "1\n",
      "4\n",
      "9\n",
      "16\n"
     ]
    }
   ],
   "source": [
    "#15. Use the following map function to find the square of the numbers\n",
    "\n",
    "def calculateSquare(n):\n",
    "    return n*n\n",
    "\n",
    "numbers = (1, 2, 3, 4)\n",
    "result = map(calculateSquare, numbers)\n",
    "print (result)\n",
    "\n",
    "#(a) what will be the output of the following:\n",
    "\n",
    "for item in result:\n",
    "    print(item)"
   ]
  },
  {
   "cell_type": "code",
   "execution_count": 88,
   "metadata": {},
   "outputs": [
    {
     "name": "stdout",
     "output_type": "stream",
     "text": [
      "1\n",
      "4\n",
      "9\n",
      "16\n"
     ]
    }
   ],
   "source": [
    "#16. Lambda function is used when you need a function for a short period of time.\n",
    "\t\n",
    "\n",
    "numbers = (1, 2, 3, 4)\n",
    "result = map(lambda x: x*x, numbers)\n",
    "\n",
    "#(a) Iterate through the map object to see the values.\n",
    "for i in result:\n",
    "    print(i)"
   ]
  },
  {
   "cell_type": "code",
   "execution_count": 90,
   "metadata": {},
   "outputs": [
    {
     "name": "stdout",
     "output_type": "stream",
     "text": [
      "9\n",
      "11\n",
      "13\n"
     ]
    }
   ],
   "source": [
    "#17.\n",
    "\n",
    "num1 = [4, 5, 6]\n",
    "num2 = [5, 6, 7]\n",
    "\n",
    "result = map(lambda n1, n2: n1+n2, num1, num2)\n",
    "\n",
    "\n",
    "#(a) Iterate through }the map object to see the values.\n",
    "for i in result:\n",
    "    print(i)"
   ]
  },
  {
   "cell_type": "code",
   "execution_count": 97,
   "metadata": {},
   "outputs": [
    {
     "ename": "TypeError",
     "evalue": "'list' object is not callable",
     "output_type": "error",
     "traceback": [
      "\u001b[1;31m---------------------------------------------------------------------------\u001b[0m",
      "\u001b[1;31mTypeError\u001b[0m                                 Traceback (most recent call last)",
      "Cell \u001b[1;32mIn[97], line 9\u001b[0m\n\u001b[0;32m      6\u001b[0m     \u001b[38;5;28;01mreturn\u001b[39;00m \u001b[38;5;124m'\u001b[39m\u001b[38;5;132;01m{}\u001b[39;00m\u001b[38;5;124m \u001b[39m\u001b[38;5;132;01m{}\u001b[39;00m\u001b[38;5;124m'\u001b[39m\u001b[38;5;241m.\u001b[39mformat(title, lastname)\n\u001b[0;32m      8\u001b[0m \u001b[38;5;66;03m# Apply the function to the list of people using map\u001b[39;00m\n\u001b[1;32m----> 9\u001b[0m result \u001b[38;5;241m=\u001b[39m \u001b[38;5;28;43mlist\u001b[39;49m\u001b[43m(\u001b[49m\u001b[38;5;28;43mmap\u001b[39;49m\u001b[43m(\u001b[49m\u001b[43msplit_title_and_name\u001b[49m\u001b[43m,\u001b[49m\u001b[43m \u001b[49m\u001b[43mpeople\u001b[49m\u001b[43m)\u001b[49m\u001b[43m)\u001b[49m\n\u001b[0;32m     10\u001b[0m \u001b[38;5;28mprint\u001b[39m(result)\n",
      "\u001b[1;31mTypeError\u001b[0m: 'list' object is not callable"
     ]
    }
   ],
   "source": [
    "people = ['Python Programming Language', 'Computer Lab Test', 'Vinod Scored A', 'Kumar Scored B']\n",
    "\n",
    "def split_title_and_name(person):\n",
    "    title = person.split()[0]\n",
    "    lastname = person.split()[-1]\n",
    "    return '{} {}'.format(title, lastname)\n",
    "\n",
    "# Apply the function to the list of people using map\n",
    "result = list(map(split_title_and_name, people))\n",
    "print(result)\n"
   ]
  },
  {
   "cell_type": "code",
   "execution_count": 2,
   "metadata": {},
   "outputs": [
    {
     "name": "stdout",
     "output_type": "stream",
     "text": [
      "20\n",
      "30\n",
      "[2, 10, 8, 12, 16, 22, 6, 24]\n",
      "[2, 10, 8, 12, 16, 22, 6, 24]\n"
     ]
    }
   ],
   "source": [
    "# 19. Show the use of lambda functions\n",
    "\n",
    "dx = lambda x: x * 2\n",
    "\n",
    "print(dx(10))\n",
    "\n",
    "# 20.Show the use of lambda functions\n",
    "\n",
    "dx = lambda x, y: (x + y)*2\n",
    "\n",
    "print(dx(5, 10))\n",
    "\n",
    "# 21. What will be the output of the following\n",
    "\n",
    "my_list = [1, 5, 4, 6, 8, 11, 3, 12]\n",
    "\n",
    "new_list1 = list(map(lambda x: x * 2 , my_list))\n",
    "\n",
    "new_list2 = map(lambda x: x * 2 , my_list)\n",
    "\n",
    "print(new_list1)\n",
    "print(list(new_list2))\n"
   ]
  },
  {
   "cell_type": "code",
   "execution_count": 3,
   "metadata": {},
   "outputs": [
    {
     "name": "stdout",
     "output_type": "stream",
     "text": [
      "[0, 0, 0, 0, 0, 0, 0, 0, 0, 0, 0, 1, 2, 3, 4, 5, 6, 7, 8, 9, 0, 2, 4, 6, 8, 10, 12, 14, 16, 18, 0, 3, 6, 9, 12, 15, 18, 21, 24, 27, 0, 4, 8, 12, 16, 20, 24, 28, 32, 36, 0, 5, 10, 15, 20, 25, 30, 35, 40, 45, 0, 6, 12, 18, 24, 30, 36, 42, 48, 54, 0, 7, 14, 21, 28, 35, 42, 49, 56, 63, 0, 8, 16, 24, 32, 40, 48, 56, 64, 72, 0, 9, 18, 27, 36, 45, 54, 63, 72, 81]\n",
      "[0, 0, 0, 0, 0, 0, 0, 0, 0, 0, 0, 1, 2, 3, 4, 5, 6, 7, 8, 9, 0, 2, 4, 6, 8, 10, 12, 14, 16, 18, 0, 3, 6, 9, 12, 15, 18, 21, 24, 27, 0, 4, 8, 12, 16, 20, 24, 28, 32, 36, 0, 5, 10, 15, 20, 25, 30, 35, 40, 45, 0, 6, 12, 18, 24, 30, 36, 42, 48, 54, 0, 7, 14, 21, 28, 35, 42, 49, 56, 63, 0, 8, 16, 24, 32, 40, 48, 56, 64, 72, 0, 9, 18, 27, 36, 45, 54, 63, 72, 81]\n"
     ]
    }
   ],
   "source": [
    "# 22. Iterate from 0 to 19 and return the even numbers\n",
    "\n",
    "my_list = []\n",
    "for number in range(1, 19):\n",
    "    if number % 2 == 0:\n",
    "        my_list.append(number)\n",
    "my_list\n",
    "\n",
    "#Now the same thing but with list comprehension\n",
    "my_list = [number for number in range(1, 19) if number % 2 == 0]\n",
    "my_list\n",
    "\n",
    "# 23. Write the output of the following function.\n",
    "\n",
    "def times_tables():\n",
    "    lst = []\n",
    "    for i in range(10):\n",
    "        for j in range (10):\n",
    "            lst.append(i*j)\n",
    "    return lst\n",
    "\n",
    "times_tables() == [j*i for i in range(10) for j in range(10)]\n",
    "\n",
    "print(times_tables())\n",
    "print([j*i for i in range(10) for j in range(10)])\n"
   ]
  },
  {
   "cell_type": "code",
   "execution_count": 10,
   "metadata": {},
   "outputs": [
    {
     "name": "stdout",
     "output_type": "stream",
     "text": [
      "[1 2 3]\n",
      "[[ 7  8  9]\n",
      " [10 11 12]]\n",
      "(2, 3)\n"
     ]
    }
   ],
   "source": [
    "#24. Numerical Python (NumPy): Write the output of the following\n",
    "\n",
    "import numpy as np\n",
    "mylist = [1, 2, 3]\n",
    "x = np.array(mylist)\n",
    "#(a) what will be the value of x\n",
    "print(x)\n",
    "\n",
    "#Pass in a list of lists to create a multidimensional array.\n",
    "m = np.array([[7, 8, 9], \n",
    "              [10, 11, 12]])\n",
    "print(m)\n",
    "#(c) Find the shape of the array m\n",
    "print(m.shape)\n"
   ]
  },
  {
   "cell_type": "code",
   "execution_count": 13,
   "metadata": {},
   "outputs": [
    {
     "data": {
      "text/plain": [
       "array([[ 0,  2,  4,  6,  8],\n",
       "       [10, 12, 14, 16, 18],\n",
       "       [20, 22, 24, 26, 28]])"
      ]
     },
     "execution_count": 13,
     "metadata": {},
     "output_type": "execute_result"
    }
   ],
   "source": [
    "#consider the following code\n",
    "n = np.arange(0, 30, 2) \n",
    "\n",
    "# (a) write the value of n \n",
    "n\n",
    "# (b) Reshape an array n to be 3x5 \n",
    "reshaped=n.reshape(3,5)\n",
    "reshaped"
   ]
  },
  {
   "cell_type": "code",
   "execution_count": 15,
   "metadata": {},
   "outputs": [
    {
     "data": {
      "text/plain": [
       "array([ 0.  ,  1.25,  2.5 ,  3.75,  5.  ,  6.25,  7.5 ,  8.75, 10.  ])"
      ]
     },
     "execution_count": 15,
     "metadata": {},
     "output_type": "execute_result"
    }
   ],
   "source": [
    "#linspace returns evenly spaced numbers over a specified interval.\n",
    "lspace = np.linspace(0, 10, 9) \n",
    "# (a) what will be the output of above code \n",
    "lspace"
   ]
  },
  {
   "cell_type": "code",
   "execution_count": 17,
   "metadata": {},
   "outputs": [
    {
     "data": {
      "text/plain": [
       "array([[ 0.  ,  1.25,  2.5 ],\n",
       "       [ 3.75,  5.  ,  6.25],\n",
       "       [ 7.5 ,  8.75, 10.  ]])"
      ]
     },
     "execution_count": 17,
     "metadata": {},
     "output_type": "execute_result"
    }
   ],
   "source": [
    "lspace.resize(3, 3)\n",
    "# (a) what will be the output of above code\n",
    "lspace"
   ]
  },
  {
   "cell_type": "code",
   "execution_count": 23,
   "metadata": {},
   "outputs": [
    {
     "data": {
      "text/plain": [
       "array([[1., 0., 0., 0.],\n",
       "       [0., 1., 0., 0.],\n",
       "       [0., 0., 1., 0.],\n",
       "       [0., 0., 0., 1.]])"
      ]
     },
     "execution_count": 23,
     "metadata": {},
     "output_type": "execute_result"
    }
   ],
   "source": [
    "#ones returns a new array of given shape and type, filled with ones.\n",
    "np.ones((5, 4))\n",
    "#zeros returns a new array of given shape and type, filled with zeros.\n",
    "np.zeros((2, 3))\n",
    "#eye returns a 2-D array with ones on the diagonal and zeros elsewhere.\n",
    "np.eye(4)"
   ]
  },
  {
   "cell_type": "code",
   "execution_count": 24,
   "metadata": {},
   "outputs": [
    {
     "name": "stdout",
     "output_type": "stream",
     "text": [
      "Main Diagnol elements : \n",
      " [11 34 16]\n",
      "\n",
      "Diagnol elements above main diagnol : \n",
      " [121  13]\n",
      "\n",
      "Diagnol elements below main diagnol : \n",
      " [613  50]\n"
     ]
    }
   ],
   "source": [
    "# matrix creation by array input\n",
    "num = np.matrix([[11, 121, 130], \n",
    "                 [613 ,34, 13], \n",
    "                 [514, 50, 16]])\n",
    "\n",
    "print(\"Main Diagnol elements : \\n\", np.diag(num))\n",
    "print(\"\\nDiagnol elements above main diagnol : \\n\", np.diag(num, 1) )\n",
    "print(\"\\nDiagnol elements below main diagnol : \\n\", np.diag(num, -1))"
   ]
  },
  {
   "cell_type": "code",
   "execution_count": 27,
   "metadata": {},
   "outputs": [
    {
     "data": {
      "text/plain": [
       "array([1, 1, 1, 2, 2, 2, 3, 3, 3])"
      ]
     },
     "execution_count": 27,
     "metadata": {},
     "output_type": "execute_result"
    }
   ],
   "source": [
    "# 25. Write the difference between the following two lines\n",
    "\n",
    "#np.array([1, 2, 3] * 3)\n",
    "np.repeat([1, 2, 3], 3)"
   ]
  },
  {
   "cell_type": "code",
   "execution_count": 34,
   "metadata": {},
   "outputs": [
    {
     "data": {
      "text/plain": [
       "array([[1, 1, 1, 2, 2, 2, 3, 3, 3],\n",
       "       [1, 1, 1, 2, 2, 2, 3, 3, 3],\n",
       "       [1, 1, 1, 2, 2, 2, 3, 3, 3]])"
      ]
     },
     "execution_count": 34,
     "metadata": {},
     "output_type": "execute_result"
    }
   ],
   "source": [
    "# 26. Write the output of the following\n",
    "\n",
    "\n",
    "p = np.ones([3, 3], int)\n",
    "\n",
    "\n",
    "#np.vstack([p, 2*p])\n",
    "\n",
    "np.vstack([p, 2*p, 3*p])\n",
    "\n",
    "np.hstack([p, 2*p])\n",
    "\n",
    "np.hstack([p, 2*p, 3*p])"
   ]
  },
  {
   "cell_type": "code",
   "execution_count": 37,
   "metadata": {},
   "outputs": [
    {
     "name": "stdout",
     "output_type": "stream",
     "text": [
      "[5 7 9]\n",
      "[-3 -3 -3]\n",
      "[ 4 10 18]\n",
      "[0.25 0.4  0.5 ]\n",
      "[1 4 9]\n"
     ]
    },
    {
     "data": {
      "text/plain": [
       "array([[ 4, 16],\n",
       "       [ 5, 25],\n",
       "       [ 6, 36]])"
      ]
     },
     "execution_count": 37,
     "metadata": {},
     "output_type": "execute_result"
    }
   ],
   "source": [
    "# 27. Observe the output of the following \n",
    "\n",
    "x=np.array([1, 2, 3])\n",
    "y=np.array([4, 5, 6])\n",
    "\n",
    "print(x + y) \n",
    "print(x - y) \n",
    "\n",
    "print(x * y) \n",
    "print(x / y) \n",
    "print(x**2) \n",
    "\n",
    "x.dot(y) \n",
    "\n",
    "z = np.array([y, y**2])\n",
    "\n",
    "z.T"
   ]
  },
  {
   "cell_type": "code",
   "execution_count": null,
   "metadata": {},
   "outputs": [],
   "source": [
    "\n",
    "\n",
    "\n",
    "\n",
    "\n",
    "\n",
    "\n",
    "# 28. Write the output of the following\n",
    "\n",
    "# \ta = np.array([-4, -2, 1, 3, 5])\n",
    "# \ta.sum()\n",
    "\n",
    "# \ta.max()\n",
    "\n",
    "# \ta.min()\n",
    "\n",
    "# \ta.mean()\n",
    "\n",
    "# \ta.std()  \n",
    "\n",
    "# \ta.argmax()\n",
    "\n",
    "# \ta.argmin()\n",
    "\n"
   ]
  },
  {
   "cell_type": "code",
   "execution_count": 41,
   "metadata": {},
   "outputs": [
    {
     "data": {
      "text/plain": [
       "array([ 1,  4,  9, 16])"
      ]
     },
     "execution_count": 41,
     "metadata": {},
     "output_type": "execute_result"
    }
   ],
   "source": [
    "#29. Consider the following\n",
    "s = np.arange(100)\n",
    "\n",
    "#what will be the output of the following:\n",
    "s = np.arange(6)**2\n",
    "\n",
    "s[0], s[4], s[-1]\n",
    "\n",
    "s[1:5]"
   ]
  },
  {
   "cell_type": "code",
   "execution_count": 42,
   "metadata": {},
   "outputs": [
    {
     "data": {
      "text/plain": [
       "array([ 64,  81, 100])"
      ]
     },
     "execution_count": 42,
     "metadata": {},
     "output_type": "execute_result"
    }
   ],
   "source": [
    "\n",
    "\n",
    "#30. Consider the following\n",
    "s = np.arange(13)**2\n",
    "\n",
    "#what will be the output of the following:\n",
    "s[0], s[4], s[-1]\n",
    "s[1:5]\n",
    "s[-4:]\n",
    "\n",
    "s[-5::-2]\n",
    "s[-5:-2]"
   ]
  },
  {
   "cell_type": "code",
   "execution_count": 43,
   "metadata": {},
   "outputs": [
    {
     "data": {
      "text/plain": [
       "array([[ 0,  1,  2,  3,  4,  5,  6,  7,  8,  9],\n",
       "       [10, 11, 12, 13, 14, 15, 16, 17, 18, 19],\n",
       "       [20, 21, 22, 23, 24, 25, 26, 27, 28, 29],\n",
       "       [30, 30, 30, 30, 30, 30, 30, 30, 30, 30],\n",
       "       [30, 30, 30, 30, 30, 30, 30, 30, 30, 30],\n",
       "       [30, 30, 30, 30, 30, 30, 30, 30, 30, 30],\n",
       "       [30, 30, 30, 30, 30, 30, 30, 30, 30, 30],\n",
       "       [30, 30, 30, 30, 30, 30, 30, 30, 30, 30],\n",
       "       [30, 30, 30, 30, 30, 30, 30, 30, 30, 30],\n",
       "       [30, 30, 30, 30, 30, 30, 30, 30, 30, 30]])"
      ]
     },
     "execution_count": 43,
     "metadata": {},
     "output_type": "execute_result"
    }
   ],
   "source": [
    "#31. Let's look at a multidimensional array.\n",
    "r = np.arange(100)\n",
    "r.resize((10, 10))\n",
    "\n",
    "#what will be the output of \n",
    "r\n",
    "\n",
    "r[2, 2]\n",
    "\n",
    "r[3, 3:6]\n",
    "\n",
    "r[:2, :-1]\n",
    "r[-1, ::2]\n",
    "\n",
    "r[r > 30]\n",
    "\n",
    "r[r > 30] = 30\n",
    "r\n",
    "\n"
   ]
  },
  {
   "cell_type": "code",
   "execution_count": 44,
   "metadata": {},
   "outputs": [
    {
     "name": "stdout",
     "output_type": "stream",
     "text": [
      "[[10 10 10 10 10 10 10 10 10 10]\n",
      " [10 10 10 10 10 10 10 10 10 10]\n",
      " [10 10 10 10 10 10 10 10 10 10]\n",
      " [10 10 10 10 10 10 10 10 10 10]\n",
      " [10 10 10 10 10 10 10 10 10 10]\n",
      " [10 10 10 10 10 10 10 10 10 10]\n",
      " [10 10 10 10 10 10 10 10 10 10]\n",
      " [10 10 10 10 10 10 10 10 10 10]\n",
      " [10 10 10 10 10 10 10 10 10 10]\n",
      " [10 10 10 10 10 10 10 10 10 10]] \n",
      "\n",
      "[[ 0  0  0  3  4  5  6  7  8  9]\n",
      " [ 0  0  0 13 14 15 16 17 18 19]\n",
      " [ 0  0  0 23 24 25 26 27 28 29]\n",
      " [30 30 30 30 30 30 30 30 30 30]\n",
      " [30 30 30 30 30 30 30 30 30 30]\n",
      " [30 30 30 30 30 30 30 30 30 30]\n",
      " [30 30 30 30 30 30 30 30 30 30]\n",
      " [30 30 30 30 30 30 30 30 30 30]\n",
      " [30 30 30 30 30 30 30 30 30 30]\n",
      " [30 30 30 30 30 30 30 30 30 30]]\n"
     ]
    }
   ],
   "source": [
    "#32. Examine the output of the following code part\n",
    "\n",
    "#r2 is a slice of r\n",
    "r2 = r[:3,:3]\n",
    "r2\n",
    "#Set this slice's values to zero ([:] selects the entire array)\n",
    "r2[:] = 0\n",
    "r2\n",
    "\n",
    "#r has also been changed!\n",
    "r\n",
    "\n",
    "#To avoid this, use r.copy to create a copy that will not affect the original array\n",
    "r_copy = r.copy()\n",
    "r_copy\n",
    "\n",
    "#Now when r_copy is modified, r will not be changed.\n",
    "r_copy[:] = 10\n",
    "print(r_copy, '\\n')\n",
    "print(r)"
   ]
  },
  {
   "cell_type": "code",
   "execution_count": 1,
   "metadata": {},
   "outputs": [
    {
     "ename": "NameError",
     "evalue": "name 'r' is not defined",
     "output_type": "error",
     "traceback": [
      "\u001b[1;31m---------------------------------------------------------------------------\u001b[0m",
      "\u001b[1;31mNameError\u001b[0m                                 Traceback (most recent call last)",
      "Cell \u001b[1;32mIn[1], line 4\u001b[0m\n\u001b[0;32m      1\u001b[0m \u001b[38;5;66;03m# 32. Examine the output of the following code part\u001b[39;00m\n\u001b[0;32m      2\u001b[0m \n\u001b[0;32m      3\u001b[0m \u001b[38;5;66;03m#r2 is a slice of r\u001b[39;00m\n\u001b[1;32m----> 4\u001b[0m r2 \u001b[38;5;241m=\u001b[39m \u001b[43mr\u001b[49m[:\u001b[38;5;241m3\u001b[39m,:\u001b[38;5;241m3\u001b[39m]\n\u001b[0;32m      5\u001b[0m r2\n\u001b[0;32m      6\u001b[0m \u001b[38;5;66;03m#Set this slice's values to zero ([:] selects the entire array)\u001b[39;00m\n",
      "\u001b[1;31mNameError\u001b[0m: name 'r' is not defined"
     ]
    }
   ],
   "source": [
    "# 32. Examine the output of the following code part\n",
    "\n",
    "#r2 is a slice of r\n",
    "r2 = r[:3,:3]\n",
    "r2\n",
    "#Set this slice's values to zero ([:] selects the entire array)\n",
    "r2[:] = 0\n",
    "r2\n",
    "\n",
    "#r has also been changed!\n",
    "r\n",
    "\n",
    "#To avoid this, use r.copy to create a copy that will not affect the original array\n",
    "r_copy = r.copy()\n",
    "r_copy\n",
    "\n",
    "#Now when r_copy is modified, r will not be changed.\n",
    "r_copy[:] = 10\n",
    "print(r_copy, '\\n')\n",
    "print(r)\n",
    "\n",
    "#33. Iterating Over Arrays\n",
    "#Let's create a new 4 by 3 array of random numbers 0-9.\n",
    "test = np.random.randint(0, 10, (4,3))\n",
    "test\n",
    "\n",
    "#Iterate by row:\n",
    "for row in test:\n",
    "    print(row)\n",
    "\n",
    "#Iterate by index:\n",
    "for i in range(len(test)):\n",
    "    print(test[i])\n",
    "\n",
    "#Iterate by row and index:\n",
    "for i, row in enumerate(test):\n",
    "    print('row', i, 'is', row)\n",
    "\n",
    "#Use zip to iterate over multiple iterables.\n",
    "test2 = test**2\n",
    "test2\n",
    "\n",
    "for i, j in zip(test, test2):\n",
    "    print(i,'+',j,'=',i+j)\n"
   ]
  }
 ],
 "metadata": {
  "kernelspec": {
   "display_name": "Python 3",
   "language": "python",
   "name": "python3"
  },
  "language_info": {
   "codemirror_mode": {
    "name": "ipython",
    "version": 3
   },
   "file_extension": ".py",
   "mimetype": "text/x-python",
   "name": "python",
   "nbconvert_exporter": "python",
   "pygments_lexer": "ipython3",
   "version": "3.12.5"
  }
 },
 "nbformat": 4,
 "nbformat_minor": 2
}
