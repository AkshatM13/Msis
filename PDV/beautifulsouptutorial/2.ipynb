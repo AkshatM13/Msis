{
 "cells": [
  {
   "cell_type": "markdown",
   "metadata": {},
   "source": [
    "FIND()"
   ]
  },
  {
   "cell_type": "code",
   "execution_count": 8,
   "metadata": {},
   "outputs": [
    {
     "name": "stdout",
     "output_type": "stream",
     "text": [
      "$69.99\n",
      "7 reviews\n"
     ]
    }
   ],
   "source": [
    "import requests\n",
    "from bs4 import BeautifulSoup\n",
    "\n",
    "url =\"https://webscraper.io/test-sites/e-commerce/allinone/computers/tablets\"\n",
    "r=requests.get(url)\n",
    "#print(r)\n",
    "\n",
    "soup=BeautifulSoup(r.text,\"lxml\")\n",
    "\n",
    "price =( soup.find(\"h4\" , {\"class\":\"price float-end card-title pull-right\"}))\n",
    "print(price.string)\n",
    "\n",
    "#desc=(soup.find(\"p\",{\"class\":\"review-count float-end\"}))  \n",
    "#print(desc.string)\n",
    " #or\n",
    "\n",
    "desc=(soup.find(\"p\",class_ = \"review-count float-end\"))\n",
    "print(desc.string)"
   ]
  },
  {
   "cell_type": "markdown",
   "metadata": {},
   "source": [
    "Find_all()"
   ]
  },
  {
   "cell_type": "code",
   "execution_count": null,
   "metadata": {},
   "outputs": [],
   "source": [
    "import requests\n",
    "from bs4 import BeautifulSoup\n",
    "url =\"https://webscraper.io/test-sites/e-commerce/allinone/computers/tablets\"\n",
    "\n",
    "r=requests.get(url)\n",
    "soup=BeautifulSoup(r.text,\"lxml\")\n",
    "\n",
    "prices=soup.find_all(\"h4\",class_ = \"price float-end card-title pull-right\")\n",
    "print(prices[3])\n",
    "print(len(prices))\n",
    "for i in prices:\n",
    "    print(i.text)"
   ]
  },
  {
   "cell_type": "markdown",
   "metadata": {},
   "source": [
    "Fnd_all using regular expression re"
   ]
  },
  {
   "cell_type": "code",
   "execution_count": 29,
   "metadata": {},
   "outputs": [
    {
     "name": "stdout",
     "output_type": "stream",
     "text": [
      "['Galaxy Tab 3', 'Galaxy Tab 3', 'Galaxy Tab 4', 'Galaxy Tab', 'Galaxy Note', 'Galaxy Note', 'Galaxy Note 10...']\n"
     ]
    }
   ],
   "source": [
    "import re\n",
    "import requests\n",
    "from bs4 import BeautifulSoup\n",
    "url =\"https://webscraper.io/test-sites/e-commerce/allinone/computers/tablets\"\n",
    "\n",
    "r=requests.get(url)\n",
    "soup=BeautifulSoup(r.text,\"lxml\")\n",
    "#data=soup.find_all([\"p\",\"h4\"])\n",
    "#print(data)\n",
    "data=soup.find_all(string= re.compile(\"Galaxy\"))\n",
    "print(data)"
   ]
  },
  {
   "cell_type": "markdown",
   "metadata": {},
   "source": [
    "pandas"
   ]
  },
  {
   "cell_type": "code",
   "execution_count": 41,
   "metadata": {},
   "outputs": [
    {
     "name": "stdout",
     "output_type": "stream",
     "text": [
      "         Product Name     Prices\n",
      "0      Lenovo IdeaTab   [$69.99]\n",
      "1      IdeaTab A3500L   [$88.99]\n",
      "2         Acer Iconia   [$96.99]\n",
      "3        Galaxy Tab 3   [$97.99]\n",
      "4   Iconia B1-730H...   [$99.99]\n",
      "5       Memo Pad HD 7  [$101.99]\n",
      "6       Asus MeMO Pad  [$102.99]\n",
      "7       Amazon Kindle  [$103.99]\n",
      "8        Galaxy Tab 3  [$107.99]\n",
      "9       IdeaTab A8-50  [$121.99]\n",
      "10         MeMO Pad 7  [$130.99]\n",
      "11  IdeaTab A3500-...  [$148.99]\n",
      "12      IdeaTab S5000  [$172.99]\n",
      "13       Galaxy Tab 4  [$233.99]\n",
      "14         Galaxy Tab  [$251.99]\n",
      "15  MeMo PAD FHD 1...  [$320.99]\n",
      "16        Galaxy Note  [$399.99]\n",
      "17        Galaxy Note  [$489.99]\n",
      "18  iPad Mini Reti...  [$537.99]\n",
      "19  Galaxy Note 10...  [$587.99]\n",
      "20     Apple iPad Air  [$603.99]\n"
     ]
    }
   ],
   "source": [
    "import requests\n",
    "import pandas as pd\n",
    "from bs4 import BeautifulSoup\n",
    "url=\"https://webscraper.io/test-sites/e-commerce/allinone/computers/tablets\"\n",
    "r=requests.get(url)\n",
    "\n",
    "soup=BeautifulSoup(r.text,\"lxml\")\n",
    "\n",
    "names=soup.find_all(\"a\",class_ = \"title\")\n",
    "#print(names)\n",
    "product_name=[]\n",
    "for i in names:\n",
    "    name=i.text\n",
    "    product_name.append(name)\n",
    "#print(product_name)\n",
    "\n",
    "prices=soup.find_all(\"h4\",class_ =\"price float-end card-title pull-right\" )\n",
    "price_list=[]\n",
    "for i in prices:\n",
    "    price=i.text\n",
    "    price_list.append(price)\n",
    "#print(price_list)\n",
    "\n",
    "#dataframe\n",
    "df=pd.DataFrame({\"Product Name\":product_name,\"Prices\":prices})\n",
    "print (df)\n",
    "\n",
    "#df.to_csv(\"Product_details.csv\")\n",
    "\n",
    "\n"
   ]
  },
  {
   "cell_type": "markdown",
   "metadata": {},
   "source": []
  },
  {
   "cell_type": "code",
   "execution_count": null,
   "metadata": {},
   "outputs": [],
   "source": []
  }
 ],
 "metadata": {
  "kernelspec": {
   "display_name": "Python 3",
   "language": "python",
   "name": "python3"
  },
  "language_info": {
   "codemirror_mode": {
    "name": "ipython",
    "version": 3
   },
   "file_extension": ".py",
   "mimetype": "text/x-python",
   "name": "python",
   "nbconvert_exporter": "python",
   "pygments_lexer": "ipython3",
   "version": "3.12.5"
  }
 },
 "nbformat": 4,
 "nbformat_minor": 2
}
